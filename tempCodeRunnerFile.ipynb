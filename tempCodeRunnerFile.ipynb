sns.kdeplot(data = data, x="count", hue="season")
plt.show()